{
 "cells": [
  {
   "cell_type": "markdown",
   "metadata": {},
   "source": [
    "# Домашня робота №5"
   ]
  },
  {
   "cell_type": "markdown",
   "metadata": {},
   "source": [
    "# Неперервні розподіли"
   ]
  },
  {
   "cell_type": "code",
   "execution_count": 1,
   "metadata": {
    "collapsed": true
   },
   "outputs": [],
   "source": [
    "import numpy as np\n",
    "import matplotlib.pyplot as plt"
   ]
  },
  {
   "cell_type": "markdown",
   "metadata": {},
   "source": [
    "## 1 Логнормальний розподіл"
   ]
  },
  {
   "cell_type": "markdown",
   "metadata": {},
   "source": [
    "Більш детальна інформація в [документації](https://docs.scipy.org/doc/scipy/reference/generated/scipy.stats.lognorm.html)."
   ]
  },
  {
   "cell_type": "code",
   "execution_count": 2,
   "metadata": {
    "collapsed": true
   },
   "outputs": [],
   "source": [
    "from scipy.stats import lognorm"
   ]
  },
  {
   "cell_type": "markdown",
   "metadata": {},
   "source": [
    "Випадкова велиина $Y$ має логнормальний розподіл, якщо $Y = \\exp \\left\\{ X \\right\\}$, де $X$ - випадкова величина з нормального розподілу."
   ]
  },
  {
   "cell_type": "code",
   "execution_count": 3,
   "metadata": {
    "collapsed": true
   },
   "outputs": [],
   "source": [
    "mu = 0\n",
    "sigma = 1"
   ]
  },
  {
   "cell_type": "markdown",
   "metadata": {},
   "source": [
    "Параметри $s, loc, scale$ відповідають логнормальному розподілу зі щільністю $$f(x) = \\frac{1}{s (x - loc) \\sqrt{2 \\pi}} \\exp \\left\\{ -\\frac{1}{2 s^2} \\log^2 \\left( \\frac{x - loc}{scale} \\right) \\right\\}.$$"
   ]
  },
  {
   "cell_type": "code",
   "execution_count": 4,
   "metadata": {
    "collapsed": false
   },
   "outputs": [],
   "source": [
    "s = sigma\n",
    "loc = 0\n",
    "scale = np.exp(mu)"
   ]
  },
  {
   "cell_type": "markdown",
   "metadata": {},
   "source": [
    "### 1.1 Щільність"
   ]
  },
  {
   "cell_type": "code",
   "execution_count": 5,
   "metadata": {
    "collapsed": true
   },
   "outputs": [],
   "source": [
    "x1 = np.arange(-1, 5, 0.1)"
   ]
  },
  {
   "cell_type": "markdown",
   "metadata": {},
   "source": [
    "Виведіть значення функції щільності логнормального розподілу з параметрами $s, loc, scale$ в точках вектора $x1$."
   ]
  },
  {
   "cell_type": "code",
   "execution_count": 6,
   "metadata": {
    "collapsed": false
   },
   "outputs": [],
   "source": [
    "# Місце для Вашого коду\n",
    "\n"
   ]
  },
  {
   "cell_type": "markdown",
   "metadata": {},
   "source": [
    "Зобразіть графічно значення функції щільності логнормального розподілу з параметрами $s, loc, scale$ в точках вектора $x2$."
   ]
  },
  {
   "cell_type": "code",
   "execution_count": 7,
   "metadata": {
    "collapsed": true
   },
   "outputs": [],
   "source": [
    "x2 = np.arange(-1, 5.01, 0.01)"
   ]
  },
  {
   "cell_type": "code",
   "execution_count": 8,
   "metadata": {
    "collapsed": false,
    "scrolled": true
   },
   "outputs": [],
   "source": [
    "# Місце для Вашого коду\n",
    "\n"
   ]
  },
  {
   "cell_type": "markdown",
   "metadata": {},
   "source": [
    "### 1.2 Функція розподілу"
   ]
  },
  {
   "cell_type": "markdown",
   "metadata": {},
   "source": [
    "Виведіть значення функції розподілу логнормального розподілу з параметрами $s, loc, scale$ в точках вектора $x1$."
   ]
  },
  {
   "cell_type": "code",
   "execution_count": 9,
   "metadata": {
    "collapsed": false
   },
   "outputs": [],
   "source": [
    "# Місце для Вашого коду\n",
    "\n"
   ]
  },
  {
   "cell_type": "markdown",
   "metadata": {},
   "source": [
    "Зобразіть графічно значення функції розподілу логнормального розподілу з параметрами $s, loc, scale$ в точках вектора $x2$."
   ]
  },
  {
   "cell_type": "code",
   "execution_count": 10,
   "metadata": {
    "collapsed": false
   },
   "outputs": [],
   "source": [
    "# Місце для Вашого коду\n",
    "\n"
   ]
  },
  {
   "cell_type": "markdown",
   "metadata": {},
   "source": [
    "### 1.3 Випадкові величини"
   ]
  },
  {
   "cell_type": "markdown",
   "metadata": {},
   "source": [
    "Згенеруйте $100$ випадкових величин з логнормального розподілу з параметрами $s, loc, scale$."
   ]
  },
  {
   "cell_type": "code",
   "execution_count": 11,
   "metadata": {
    "collapsed": false
   },
   "outputs": [],
   "source": [
    "# Місце для Вашого коду\n",
    "\n"
   ]
  },
  {
   "cell_type": "markdown",
   "metadata": {},
   "source": [
    "Зобразіть гістограму $10000$ випадкових величин з логнормального розподілу з параметрами $s, loc, scale$."
   ]
  },
  {
   "cell_type": "code",
   "execution_count": 12,
   "metadata": {
    "collapsed": false
   },
   "outputs": [],
   "source": [
    "# Місце для Вашого коду\n",
    "\n"
   ]
  },
  {
   "cell_type": "markdown",
   "metadata": {},
   "source": [
    "Зобразіть графік функції щільності та нормовану гістограму $100000$ випадкових величин з логнормального розподілу з параметрами $s, loc, scale$. Поексперементуйте з аргументом $bins$ функції `hist`."
   ]
  },
  {
   "cell_type": "code",
   "execution_count": 13,
   "metadata": {
    "collapsed": false,
    "scrolled": true
   },
   "outputs": [],
   "source": [
    "# Місце для Вашого коду\n",
    "\n"
   ]
  },
  {
   "cell_type": "markdown",
   "metadata": {},
   "source": [
    "## 2 Бета розподіл"
   ]
  },
  {
   "cell_type": "markdown",
   "metadata": {},
   "source": [
    "Більш детальна інформація в [документації](https://docs.scipy.org/doc/scipy/reference/generated/scipy.stats.beta.html)."
   ]
  },
  {
   "cell_type": "code",
   "execution_count": 14,
   "metadata": {
    "collapsed": true
   },
   "outputs": [],
   "source": [
    "from scipy.stats import beta"
   ]
  },
  {
   "cell_type": "code",
   "execution_count": 15,
   "metadata": {
    "collapsed": true
   },
   "outputs": [],
   "source": [
    "a = 2\n",
    "b = 1.1"
   ]
  },
  {
   "cell_type": "markdown",
   "metadata": {},
   "source": [
    "Параметри $loc, scale$ відповідають бета розподілу зі щільністю $$f(x) = \\frac{\\Gamma(\\alpha + \\beta)}{\\Gamma(\\alpha) \\Gamma(\\beta) \\, scale} \\left( \\frac{x - loc}{scale} \\right)^{\\alpha - 1} \\left( 1 - \\frac{x - loc}{scale} \\right)^{\\beta - 1}.$$"
   ]
  },
  {
   "cell_type": "code",
   "execution_count": 16,
   "metadata": {
    "collapsed": true
   },
   "outputs": [],
   "source": [
    "loc = 0\n",
    "scale = 1"
   ]
  },
  {
   "cell_type": "markdown",
   "metadata": {},
   "source": [
    "### 2.1 Щільність"
   ]
  },
  {
   "cell_type": "code",
   "execution_count": 17,
   "metadata": {
    "collapsed": true
   },
   "outputs": [],
   "source": [
    "x1 = np.arange(-1, 2.1, 0.1)"
   ]
  },
  {
   "cell_type": "markdown",
   "metadata": {},
   "source": [
    "Виведіть значення функції щільності бета розподілу з параметрами $a, b, loc, scale$ в точках вектора $x1$."
   ]
  },
  {
   "cell_type": "code",
   "execution_count": 18,
   "metadata": {
    "collapsed": false
   },
   "outputs": [],
   "source": [
    "# Місце для Вашого коду\n",
    "\n"
   ]
  },
  {
   "cell_type": "markdown",
   "metadata": {},
   "source": [
    "Зобразіть графічно значення функції щільності бета розподілу з параметрами $a, b, loc, scale$ в точках вектора $x2$."
   ]
  },
  {
   "cell_type": "code",
   "execution_count": 19,
   "metadata": {
    "collapsed": true
   },
   "outputs": [],
   "source": [
    "x2 = np.arange(-1, 2.01, 0.01)"
   ]
  },
  {
   "cell_type": "code",
   "execution_count": 20,
   "metadata": {
    "collapsed": false
   },
   "outputs": [],
   "source": [
    "# Місце для Вашого коду\n",
    "\n"
   ]
  },
  {
   "cell_type": "markdown",
   "metadata": {},
   "source": [
    "### 2.2 Функція розподілу"
   ]
  },
  {
   "cell_type": "markdown",
   "metadata": {},
   "source": [
    "Виведіть значення функції розподілу бета розподілу з параметрами $a, b, loc, scale$ в точках вектора $x1$."
   ]
  },
  {
   "cell_type": "code",
   "execution_count": 21,
   "metadata": {
    "collapsed": false
   },
   "outputs": [],
   "source": [
    "# Місце для Вашого коду\n",
    "\n"
   ]
  },
  {
   "cell_type": "markdown",
   "metadata": {},
   "source": [
    "Зобразіть графічно значення функції розподілу бета розподілу з параметрами $a, b, loc, scale$ в точках вектора $x2$."
   ]
  },
  {
   "cell_type": "code",
   "execution_count": 22,
   "metadata": {
    "collapsed": false
   },
   "outputs": [],
   "source": [
    "# Місце для Вашого коду\n",
    "\n"
   ]
  },
  {
   "cell_type": "markdown",
   "metadata": {},
   "source": [
    "### 2.3 Випадкові величини"
   ]
  },
  {
   "cell_type": "markdown",
   "metadata": {},
   "source": [
    "Згенеруйте $100$ випадкових величин з бета розподілу з параметрами $a, b, loc, scale$."
   ]
  },
  {
   "cell_type": "code",
   "execution_count": 23,
   "metadata": {
    "collapsed": false
   },
   "outputs": [],
   "source": [
    "# Місце для Вашого коду\n",
    "\n"
   ]
  },
  {
   "cell_type": "markdown",
   "metadata": {},
   "source": [
    "Зобразіть гістограму $10000$ випадкових величин з бета розподілу з параметрами $a, b, loc, scale$."
   ]
  },
  {
   "cell_type": "code",
   "execution_count": 24,
   "metadata": {
    "collapsed": false
   },
   "outputs": [],
   "source": [
    "# Місце для Вашого коду\n",
    "\n"
   ]
  },
  {
   "cell_type": "markdown",
   "metadata": {},
   "source": [
    "Зобразіть графік функції щільності та нормовану гістограму $100000$ випадкових величин з бета розподілу з параметрами $a, b, loc, scale$. Поексперементуйте з аргументом $bins$ функції `hist`."
   ]
  },
  {
   "cell_type": "code",
   "execution_count": 25,
   "metadata": {
    "collapsed": false,
    "scrolled": true
   },
   "outputs": [],
   "source": [
    "# Місце для Вашого коду\n",
    "\n"
   ]
  },
  {
   "cell_type": "markdown",
   "metadata": {},
   "source": [
    "## 3 Різні параметри"
   ]
  },
  {
   "cell_type": "markdown",
   "metadata": {},
   "source": [
    "### 3.1 Рівномірний розподіл"
   ]
  },
  {
   "cell_type": "markdown",
   "metadata": {},
   "source": [
    "Зобразіть графічно функцію щільності, функцію розподілу та нормовану гістограму $100000$ випадкових величин з параметром `bins=50` разом з функцією щільності рівномірного розподілу з параметрами:\n",
    "1. $a = 0, b = 2$\n",
    "2. $a = 0, b = 5$\n",
    "3. $a = 0, b = 10$\n",
    "4. $a = -2, b = 2$\n",
    "5. $a = -5, b = 5$\n",
    "\n",
    "Зробіть шкали на відповідних графіках однаковими для кращого порівняння. Наприклад, усі графіки щільності повинні мати однакові границі як по осі $x$, так і по осі $y$."
   ]
  },
  {
   "cell_type": "code",
   "execution_count": 26,
   "metadata": {
    "collapsed": false,
    "scrolled": false
   },
   "outputs": [],
   "source": [
    "# Місце для Вашого коду\n",
    "\n"
   ]
  },
  {
   "cell_type": "markdown",
   "metadata": {},
   "source": [
    "### 3.2 Експоненційний розподіл"
   ]
  },
  {
   "cell_type": "markdown",
   "metadata": {},
   "source": [
    "Зобразіть графічно функцію щільності, функцію розподілу та нормовану гістограму $100000$ випадкових величин з параметром `bins=50` разом з функцією щільності експоненційного розподілу з параметрами:\n",
    "1. $\\lambda = 0.1$\n",
    "2. $\\lambda = 0.2$\n",
    "3. $\\lambda = 0.3$\n",
    "4. $\\lambda = 0.4$\n",
    "5. $\\lambda = 0.5$\n",
    "6. $\\lambda = 0.6$\n",
    "7. $\\lambda = 0.7$\n",
    "8. $\\lambda = 0.8$\n",
    "9. $\\lambda = 0.9$\n",
    "\n",
    "Зробіть шкали на відповідних графіках однаковими для кращого порівняння. Наприклад, усі графіки щільності повинні мати однакові границі як по осі $x$, так і по осі $y$."
   ]
  },
  {
   "cell_type": "code",
   "execution_count": 27,
   "metadata": {
    "collapsed": false,
    "scrolled": false
   },
   "outputs": [],
   "source": [
    "# Місце для Вашого коду\n",
    "\n"
   ]
  },
  {
   "cell_type": "markdown",
   "metadata": {},
   "source": [
    "### 3.3 Нормальний розподіл"
   ]
  },
  {
   "cell_type": "markdown",
   "metadata": {},
   "source": [
    "Зобразіть графічно функцію щільності, функцію розподілу та нормовану гістограму $100000$ випадкових величин з параметром `bins=50` разом з функцією щільності нормального розподілу з параметрами:\n",
    "1. $\\mu = 0, \\sigma = 0.5$\n",
    "2. $\\mu = 0, \\sigma = 2$\n",
    "3. $\\mu = 0, \\sigma = 4$\n",
    "4. $\\mu = 0, \\sigma = 1$\n",
    "5. $\\mu = -2, \\sigma = 1$\n",
    "6. $\\mu = 2, \\sigma = 1$\n",
    "\n",
    "Зробіть шкали на відповідних графіках однаковими для кращого порівняння. Наприклад, усі графіки щільності повинні мати однакові границі як по осі $x$, так і по осі $y$."
   ]
  },
  {
   "cell_type": "code",
   "execution_count": 28,
   "metadata": {
    "collapsed": false,
    "scrolled": false
   },
   "outputs": [],
   "source": [
    "# Місце для Вашого коду\n",
    "\n"
   ]
  },
  {
   "cell_type": "markdown",
   "metadata": {},
   "source": [
    "### 3.4 Гамма розподіл"
   ]
  },
  {
   "cell_type": "markdown",
   "metadata": {},
   "source": [
    "Зобразіть графічно функцію щільності, функцію розподілу та нормовану гістограму $100000$ випадкових величин з параметром `bins=50` разом з функцією щільності гамма розподілу з параметрами:\n",
    "1. $\\alpha = 0.25$\n",
    "2. $\\alpha = 0.5$\n",
    "3. $\\alpha = 0.75$\n",
    "4. $\\alpha = 1$\n",
    "5. $\\alpha = 1.5$\n",
    "6. $\\alpha = 2$\n",
    "7. $\\alpha = 3$\n",
    "8. $\\alpha = 5$\n",
    "9. $\\alpha = 10$\n",
    "\n",
    "Зробіть шкали на відповідних графіках однаковими для кращого порівняння. Наприклад, усі графіки щільності повинні мати однакові границі як по осі $x$, так і по осі $y$."
   ]
  },
  {
   "cell_type": "code",
   "execution_count": 29,
   "metadata": {
    "collapsed": false,
    "scrolled": false
   },
   "outputs": [],
   "source": [
    "# Місце для Вашого коду\n",
    "\n"
   ]
  },
  {
   "cell_type": "markdown",
   "metadata": {},
   "source": [
    "### 3.5 Логнормальний розподіл"
   ]
  },
  {
   "cell_type": "markdown",
   "metadata": {},
   "source": [
    "Зобразіть графічно функцію щільності, функцію розподілу та нормовану гістограму $100000$ випадкових величин з параметром `bins=200` разом з функцією щільності логнормального розподілу з такими параметрами відповідного нормального розподілу:\n",
    "1. $\\mu = 0, \\sigma = 0.5$\n",
    "2. $\\mu = 0, \\sigma = 1.5$\n",
    "3. $\\mu = 0, \\sigma = 2$\n",
    "4. $\\mu = 0, \\sigma = 1$\n",
    "5. $\\mu = -1, \\sigma = 1$\n",
    "6. $\\mu = 1, \\sigma = 1$\n",
    "\n",
    "Зробіть шкали на відповідних графіках однаковими для кращого порівняння. Наприклад, усі графіки щільності повинні мати однакові границі як по осі $x$, так і по осі $y$."
   ]
  },
  {
   "cell_type": "code",
   "execution_count": 30,
   "metadata": {
    "collapsed": false,
    "scrolled": false
   },
   "outputs": [],
   "source": [
    "# Місце для Вашого коду\n",
    "\n"
   ]
  },
  {
   "cell_type": "markdown",
   "metadata": {},
   "source": [
    "### 3.6 Бета розподіл"
   ]
  },
  {
   "cell_type": "markdown",
   "metadata": {},
   "source": [
    "Зобразіть графічно функцію щільності, функцію розподілу та нормовану гістограму $100000$ випадкових величин з параметром `bins=50` разом з функцією щільності бета розподілу з параметрами:\n",
    "1. $\\alpha = 0.5, \\beta = 2$\n",
    "2. $\\alpha = 0.5, \\beta = 1.5$\n",
    "3. $\\alpha = 0.5, \\beta = 0.5$\n",
    "4. $\\alpha = 0.5, \\beta = 1$\n",
    "5. $\\alpha = 1, \\beta = 1$\n",
    "6. $\\alpha = 1, \\beta = 0.5$\n",
    "7. $\\alpha = 1, \\beta = 1.5$\n",
    "8. $\\alpha = 1, \\beta = 2$\n",
    "9. $\\alpha = 2, \\beta = 2$\n",
    "10. $\\alpha = 2, \\beta = 5$\n",
    "11. $\\alpha = 5, \\beta = 2$\n",
    "12. $\\alpha = 10, \\beta = 10$\n",
    "\n",
    "Зробіть шкали на відповідних графіках однаковими для кращого порівняння. Наприклад, усі графіки щільності повинні мати однакові границі як по осі $x$, так і по осі $y$."
   ]
  },
  {
   "cell_type": "code",
   "execution_count": 31,
   "metadata": {
    "collapsed": false,
    "scrolled": false
   },
   "outputs": [],
   "source": [
    "# Місце для Вашого коду\n",
    "\n"
   ]
  },
  {
   "cell_type": "markdown",
   "metadata": {
    "collapsed": true
   },
   "source": [
    "## 4 Апроксимація біноміального розподілу нормальним розподілом"
   ]
  },
  {
   "cell_type": "markdown",
   "metadata": {},
   "source": [
    "Покажіть схожість біноміального розподілу та нормального розподілу з відповідними параметрами:\n",
    "- $n = 100, p = 0.05$\n",
    "- $n = 100, p = 0.1$\n",
    "- $n = 100, p = 0.15$\n",
    "- $n = 100, p = 0.2$\n",
    "- $n = 100, p = 0.35$\n",
    "- $n = 100, p = 0.5$\n",
    "- $n = 100, p = 0.75$\n",
    "\n",
    "Зобразіть графіки їх функцій щільності (обидві функції на одному графіку) та функцій розподілу (обидві функції на другому графіку) на двох сабплотах в одному рядку.\n",
    "\n",
    "**Зауваження.** Математичне сподівання та дисперсія відповідного нормального розподілу збігається з математичним сподіванням та дисперсією біноміального розподілу."
   ]
  },
  {
   "cell_type": "code",
   "execution_count": 32,
   "metadata": {
    "collapsed": false,
    "scrolled": false
   },
   "outputs": [],
   "source": [
    "# Місце для Вашого коду\n",
    "\n"
   ]
  },
  {
   "cell_type": "markdown",
   "metadata": {
    "collapsed": true
   },
   "source": [
    "## 5 Апроксимація числа $\\pi$"
   ]
  },
  {
   "cell_type": "markdown",
   "metadata": {},
   "source": [
    "Розглянемо квадрат зі стороною $2a$. Нехай коло радіуса $a$ вписане в цей квадрат. Якщо вибрати точку рівномірно з цього квадрата, то ймовірність, що ця точка також належить і вписаному колу, дорівнює відношенню площ кола та квадрата, тобто $\\pi a^2/(2a)^2 = \\pi/4$.\n",
    "\n",
    "Реалізуйте функцію емпіричної апроксимації числа $\\pi$ за $n$ симуляцій (вибору $n$ випадкових точок з квадрата). Зобразіть графічно отримані елементи: квадрат, коло, випадкові точки. Виділіть точки, що належать колу, окремим кольором від інших точок.\n",
    "\n",
    "Нехай $a = 1$. Виведіть результат функції для:\n",
    "1. $n = 10$\n",
    "2. $n = 100$\n",
    "3. $n = 500$\n",
    "4. $n = 1000$\n",
    "5. $n = 2000$"
   ]
  },
  {
   "cell_type": "code",
   "execution_count": 33,
   "metadata": {
    "collapsed": false,
    "scrolled": false
   },
   "outputs": [],
   "source": [
    "# Місце для Вашого коду\n",
    "\n"
   ]
  }
 ],
 "metadata": {
  "kernelspec": {
   "display_name": "Python 3",
   "language": "python",
   "name": "python3"
  },
  "language_info": {
   "codemirror_mode": {
    "name": "ipython",
    "version": 3
   },
   "file_extension": ".py",
   "mimetype": "text/x-python",
   "name": "python",
   "nbconvert_exporter": "python",
   "pygments_lexer": "ipython3",
   "version": "3.6.1"
  }
 },
 "nbformat": 4,
 "nbformat_minor": 0
}
